{
 "cells": [
  {
   "cell_type": "code",
   "execution_count": 1,
   "metadata": {},
   "outputs": [],
   "source": [
    "import os\n",
    "import numpy as np\n",
    "import torch\n",
    "from PIL import Image"
   ]
  },
  {
   "cell_type": "markdown",
   "metadata": {},
   "source": [
    "## 1. Make Dataset loader"
   ]
  },
  {
   "cell_type": "code",
   "execution_count": 18,
   "metadata": {},
   "outputs": [],
   "source": [
    "# make a DataLoader for this dataset\n",
    "class PennFudanDataset(torch.utils.data.Dataset):\n",
    "    # each loader class needs 3 fnx: __init__, __len, __getitem__\n",
    "    def __init(self, root, transforms):\n",
    "        self.root = root;\n",
    "        self.transforms = transforms;\n",
    "        \n",
    "        # load png files and corresponding masks, sort to make sure they aligned\n",
    "        self.images = list(sorted(os.listdir(os.path.join(root, 'PNGImages'))));\n",
    "        self.masks = list(sorted(os.listdir(os.path.join(root,'PedMasks'))));\n",
    "        \n",
    "    def __len__(self):\n",
    "        return len(self.images)\n",
    "    \n",
    "    def __getitem(self, idx):\n",
    "        # get image and mask from the idx\n",
    "        \n",
    "        image_path = os.path.join(self.root,'PNGImages',self.images[idx])\n",
    "        image = Image.open(image_path).convert('RGB');\n",
    "        \n",
    "        mask_path = os.path.join(self.root,'PedMasks',self.masks[idx])\n",
    "        # don't convert mask to RGB since each color correponds to a different instance\n",
    "        mask = Image.open(mask_path)\n",
    "        mask = np.array(mask)\n",
    "        \n",
    "        #instances are encoded as different colors and the first is background, so remove it\n",
    "        obj_ids = np.unique(mask); obj_ids = obj_ids[1:];\n",
    "        \n",
    "        #split color coded masks into a set of binary masks\n",
    "        masks = mask==obj_ids[:,None,None]\n",
    "        \n",
    "        #get bounding box coordinates for each mask\n",
    "        #x-axis is dim 1, y-axis is dim 0\n",
    "        num_objs = len(obj_ids);\n",
    "        boxes=[];\n",
    "        for i in range(num_objs):\n",
    "            pos = np.where(masks[i]);\n",
    "            xmin, xmax = np.min(pos[1]), np.max(pos[1]);\n",
    "            ymin, ymax = np.min(pos[0]), np.max(pos[0]);\n",
    "            boxes.append([xmin, ymin, xmax, ymax]);\n",
    "            \n",
    "        #of course then convert everything to a tensor\n",
    "        boxes = torch.as_tensor(boxes,dtype=torch.float32)\n",
    "        \n",
    "        #there is only one class\n",
    "        labels = torch.ones((num_objs,),dtype=torch.int64)\n",
    "        masks = torch.as_tensor(masks, dtype=torch.uint8)\n",
    "        \n",
    "        image_id = torch.as_tensor([idx])\n",
    "        \n",
    "        #area of masks = change in x * change in y\n",
    "        area = (boxes[:,3]-boxes[:,1])*(boxes[:,2]-boxes[:,4])\n",
    "        \n",
    "        #[optional] - but suppose there is no crowd\n",
    "        iscrowd = torch.zeros((num_objs,),dtype=torch.int64);\n",
    "        \n",
    "        #make target dataframe\n",
    "        target = {}\n",
    "        target['boxes']=boxes; target['labels']=labels; target['masks']=masks\n",
    "        target['image_id']=image_id; target['area']=area; target['iscrowd']=iscrowd;\n",
    "        \n",
    "        if self.tranforms is not None:\n",
    "            self.transforms(image, target)\n",
    "            \n",
    "        return image, target\n",
    "        "
   ]
  },
  {
   "cell_type": "markdown",
   "metadata": {},
   "source": [
    "### There are two methods of training, in addition to training a new model\n",
    "1. Fine-tune an already trained model (i.e., only adjust the last parameters)\n",
    "2. Change the backbone of an existing model\n",
    "\n",
    "#### Starting with fine-tuning an already trained model"
   ]
  },
  {
   "cell_type": "code",
   "execution_count": 19,
   "metadata": {},
   "outputs": [],
   "source": [
    "import torchvision\n",
    "from torchvision.models.detection.faster_rcnn import FastRCNNPredictor"
   ]
  },
  {
   "cell_type": "code",
   "execution_count": 23,
   "metadata": {},
   "outputs": [
    {
     "name": "stdout",
     "output_type": "stream",
     "text": [
      "Collecting fastmri\n",
      "\u001b[?25l  Downloading https://files.pythonhosted.org/packages/1d/32/a528dc6bb188f7245af4bc6c396dc2f0c7029e03ce36dc1e294352bc0c76/fastmri-0.1.1-py3-none-any.whl (40kB)\n",
      "\u001b[K     |████████████████████████████████| 40kB 2.7MB/s eta 0:00:011\n",
      "\u001b[?25hCollecting pytorch-lightning<1.1,>=1.0.6 (from fastmri)\n",
      "\u001b[?25l  Downloading https://files.pythonhosted.org/packages/2e/92/078c5524c875c274ded8a0317ef31a2bb86d02c5c74089ab754d0f12b29c/pytorch_lightning-1.0.8-py3-none-any.whl (561kB)\n",
      "\u001b[K     |████████████████████████████████| 563kB 6.0MB/s eta 0:00:01\n",
      "\u001b[?25hRequirement already satisfied: torchvision>=0.8.1 in /Users/tanviranjan/anaconda3/lib/python3.7/site-packages (from fastmri) (0.10.0)\n",
      "Collecting h5py>=2.10.0 (from fastmri)\n",
      "\u001b[?25l  Downloading https://files.pythonhosted.org/packages/2f/e3/2d33d00976de1265899e30d91c2d7eeec32942c579bfa410ccd517f293a6/h5py-3.4.0-cp37-cp37m-macosx_10_9_x86_64.whl (2.9MB)\n",
      "\u001b[K     |████████████████████████████████| 2.9MB 16.9MB/s eta 0:00:01\n",
      "\u001b[?25hCollecting numpy>=1.18.5 (from fastmri)\n",
      "\u001b[?25l  Downloading https://files.pythonhosted.org/packages/e0/54/49206c6aba7d0e7d5a6e2f5b6760a00e35bb705e9d2be007be0a16e4ba40/numpy-1.21.2-cp37-cp37m-macosx_10_9_x86_64.whl (16.9MB)\n",
      "\u001b[K     |████████████████████████████████| 16.9MB 11.5MB/s eta 0:00:01   |▉                               | 419kB 8.1MB/s eta 0:00:03     |██▊                             | 1.4MB 8.1MB/s eta 0:00:02\n",
      "\u001b[?25hRequirement already satisfied: torch>=1.7.0 in /Users/tanviranjan/anaconda3/lib/python3.7/site-packages (from fastmri) (1.9.0)\n",
      "Collecting PyYAML>=5.3.1 (from fastmri)\n",
      "\u001b[?25l  Downloading https://files.pythonhosted.org/packages/6b/8c/674cc47282af12bd7f12eea6cc87d907ada593b15f5ba0b51638599500c9/PyYAML-5.4.1-cp37-cp37m-macosx_10_9_x86_64.whl (249kB)\n",
      "\u001b[K     |████████████████████████████████| 256kB 10.0MB/s eta 0:00:01\n",
      "\u001b[?25hCollecting runstats>=1.8.0 (from fastmri)\n",
      "\u001b[?25l  Downloading https://files.pythonhosted.org/packages/eb/a9/3b597ec1ee094bb86dc3682cb220befa6818e06c10c17115d8a9bb927ee8/runstats-2.0.0-cp37-cp37m-macosx_10_9_x86_64.whl (83kB)\n",
      "\u001b[K     |████████████████████████████████| 92kB 20.6MB/s eta 0:00:01\n",
      "\u001b[?25hCollecting scikit-image>=0.16.2 (from fastmri)\n",
      "\u001b[?25l  Downloading https://files.pythonhosted.org/packages/81/f6/124b0052a0416cbff9a39f44b4985c02a08da33bde6831610d6773a27bfb/scikit_image-0.18.3-cp37-cp37m-macosx_10_9_x86_64.whl (13.0MB)\n",
      "\u001b[K     |████████████████████████████████| 13.0MB 10.2MB/s eta 0:00:01\n",
      "\u001b[?25hCollecting tensorboard>=2.2.0 (from pytorch-lightning<1.1,>=1.0.6->fastmri)\n",
      "\u001b[?25l  Downloading https://files.pythonhosted.org/packages/a0/20/a59a30c32330e4ff704faa4273b251db042d495e0c367bcdf045c6fe26e9/tensorboard-2.6.0-py3-none-any.whl (5.6MB)\n",
      "\u001b[K     |████████████████████████████████| 5.6MB 8.5MB/s eta 0:00:01\n",
      "\u001b[?25hCollecting fsspec>=0.8.0 (from pytorch-lightning<1.1,>=1.0.6->fastmri)\n",
      "\u001b[?25l  Downloading https://files.pythonhosted.org/packages/40/e1/7111d8afc76ee3171f4f99592cd29bac9d233ae1aa34623011506f955434/fsspec-2021.7.0-py3-none-any.whl (118kB)\n",
      "\u001b[K     |████████████████████████████████| 122kB 7.6MB/s eta 0:00:01\n",
      "\u001b[?25hRequirement already satisfied: future>=0.17.1 in /Users/tanviranjan/anaconda3/lib/python3.7/site-packages (from pytorch-lightning<1.1,>=1.0.6->fastmri) (0.17.1)\n",
      "Collecting tqdm>=4.41.0 (from pytorch-lightning<1.1,>=1.0.6->fastmri)\n",
      "\u001b[?25l  Downloading https://files.pythonhosted.org/packages/9c/05/cf212f57daa0eb6106fa668a04d74d932e9881fd4a22f322ea1dadb5aba0/tqdm-4.62.2-py2.py3-none-any.whl (76kB)\n",
      "\u001b[K     |████████████████████████████████| 81kB 9.6MB/s  eta 0:00:01\n",
      "\u001b[?25hRequirement already satisfied: pillow>=5.3.0 in /Users/tanviranjan/anaconda3/lib/python3.7/site-packages (from torchvision>=0.8.1->fastmri) (6.1.0)\n",
      "Collecting cached-property; python_version < \"3.8\" (from h5py>=2.10.0->fastmri)\n",
      "  Downloading https://files.pythonhosted.org/packages/48/19/f2090f7dad41e225c7f2326e4cfe6fff49e57dedb5b53636c9551f86b069/cached_property-1.5.2-py2.py3-none-any.whl\n",
      "Requirement already satisfied: typing-extensions in /Users/tanviranjan/anaconda3/lib/python3.7/site-packages (from torch>=1.7.0->fastmri) (3.10.0.0)\n",
      "Requirement already satisfied: matplotlib!=3.0.0,>=2.0.0 in /Users/tanviranjan/anaconda3/lib/python3.7/site-packages (from scikit-image>=0.16.2->fastmri) (3.1.0)\n",
      "Requirement already satisfied: imageio>=2.3.0 in /Users/tanviranjan/anaconda3/lib/python3.7/site-packages (from scikit-image>=0.16.2->fastmri) (2.5.0)\n",
      "Collecting tifffile>=2019.7.26 (from scikit-image>=0.16.2->fastmri)\n",
      "\u001b[?25l  Downloading https://files.pythonhosted.org/packages/3f/81/7b43b2a15cae47aca83734a39cc3fff178175ffb1ab155e0ae7406ea60e1/tifffile-2021.8.8-py3-none-any.whl (171kB)\n",
      "\u001b[K     |████████████████████████████████| 174kB 12.9MB/s eta 0:00:01\n",
      "\u001b[?25hRequirement already satisfied: networkx>=2.0 in /Users/tanviranjan/anaconda3/lib/python3.7/site-packages (from scikit-image>=0.16.2->fastmri) (2.3)\n",
      "Collecting PyWavelets>=1.1.1 (from scikit-image>=0.16.2->fastmri)\n",
      "\u001b[?25l  Downloading https://files.pythonhosted.org/packages/61/e7/b35d14bf5416e771764dd6e35b522cb2c02de02cdac493e509751b0be18f/PyWavelets-1.1.1-cp37-cp37m-macosx_10_9_x86_64.whl (4.3MB)\n",
      "\u001b[K     |████████████████████████████████| 4.3MB 14.3MB/s eta 0:00:01\n",
      "\u001b[?25hRequirement already satisfied: scipy>=1.0.1 in /Users/tanviranjan/anaconda3/lib/python3.7/site-packages (from scikit-image>=0.16.2->fastmri) (1.3.0)\n",
      "Requirement already satisfied: requests<3,>=2.21.0 in /Users/tanviranjan/anaconda3/lib/python3.7/site-packages (from tensorboard>=2.2.0->pytorch-lightning<1.1,>=1.0.6->fastmri) (2.22.0)\n",
      "Collecting tensorboard-plugin-wit>=1.6.0 (from tensorboard>=2.2.0->pytorch-lightning<1.1,>=1.0.6->fastmri)\n",
      "\u001b[?25l  Downloading https://files.pythonhosted.org/packages/1a/c1/499e600ba0c618b451cd9c425ae1c177249940a2086316552fee7d86c954/tensorboard_plugin_wit-1.8.0-py3-none-any.whl (781kB)\n",
      "\u001b[K     |████████████████████████████████| 788kB 13.5MB/s eta 0:00:01\n",
      "\u001b[?25hRequirement already satisfied: wheel>=0.26 in /Users/tanviranjan/anaconda3/lib/python3.7/site-packages (from tensorboard>=2.2.0->pytorch-lightning<1.1,>=1.0.6->fastmri) (0.33.4)\n",
      "Collecting markdown>=2.6.8 (from tensorboard>=2.2.0->pytorch-lightning<1.1,>=1.0.6->fastmri)\n",
      "\u001b[?25l  Downloading https://files.pythonhosted.org/packages/6e/33/1ae0f71395e618d6140fbbc9587cc3156591f748226075e0f7d6f9176522/Markdown-3.3.4-py3-none-any.whl (97kB)\n",
      "\u001b[K     |████████████████████████████████| 102kB 10.7MB/s ta 0:00:01\n",
      "\u001b[?25hRequirement already satisfied: setuptools>=41.0.0 in /Users/tanviranjan/anaconda3/lib/python3.7/site-packages (from tensorboard>=2.2.0->pytorch-lightning<1.1,>=1.0.6->fastmri) (41.0.1)\n",
      "Requirement already satisfied: werkzeug>=0.11.15 in /Users/tanviranjan/anaconda3/lib/python3.7/site-packages (from tensorboard>=2.2.0->pytorch-lightning<1.1,>=1.0.6->fastmri) (0.15.4)\n",
      "Collecting absl-py>=0.4 (from tensorboard>=2.2.0->pytorch-lightning<1.1,>=1.0.6->fastmri)\n",
      "\u001b[?25l  Downloading https://files.pythonhosted.org/packages/23/47/835652c7e19530973c73c65e652fc53bd05725d5a7cf9bb8706777869c1e/absl_py-0.13.0-py3-none-any.whl (132kB)\n",
      "\u001b[K     |████████████████████████████████| 133kB 8.7MB/s eta 0:00:01\n",
      "\u001b[?25hCollecting tensorboard-data-server<0.7.0,>=0.6.0 (from tensorboard>=2.2.0->pytorch-lightning<1.1,>=1.0.6->fastmri)\n",
      "\u001b[?25l  Downloading https://files.pythonhosted.org/packages/3e/48/dd135dbb3cf16bfb923720163493cab70e7336db4b5f3103d49efa730404/tensorboard_data_server-0.6.1-py3-none-macosx_10_9_x86_64.whl (3.5MB)\n",
      "\u001b[K     |████████████████████████████████| 3.6MB 9.6MB/s eta 0:00:01\n",
      "\u001b[?25hCollecting protobuf>=3.6.0 (from tensorboard>=2.2.0->pytorch-lightning<1.1,>=1.0.6->fastmri)\n",
      "\u001b[?25l  Downloading https://files.pythonhosted.org/packages/2a/3b/6d868198d7287a2cd323824b5f56db868477d03aeebf5441d2c2a67596ac/protobuf-3.17.3-cp37-cp37m-macosx_10_9_x86_64.whl (1.0MB)\n",
      "\u001b[K     |████████████████████████████████| 1.0MB 9.7MB/s eta 0:00:01\n",
      "\u001b[?25hCollecting google-auth<2,>=1.6.3 (from tensorboard>=2.2.0->pytorch-lightning<1.1,>=1.0.6->fastmri)\n",
      "\u001b[?25l  Downloading https://files.pythonhosted.org/packages/fb/7a/1b3eb54caee1b8c73c2c3645f78a382eca4805a301a30c64a078e736e446/google_auth-1.35.0-py2.py3-none-any.whl (152kB)\n",
      "\u001b[K     |████████████████████████████████| 153kB 14.4MB/s eta 0:00:01\n"
     ]
    },
    {
     "name": "stdout",
     "output_type": "stream",
     "text": [
      "\u001b[?25hCollecting google-auth-oauthlib<0.5,>=0.4.1 (from tensorboard>=2.2.0->pytorch-lightning<1.1,>=1.0.6->fastmri)\n",
      "  Downloading https://files.pythonhosted.org/packages/45/d9/df4019fc28b3aed8218e1bfca38158b90b70a3583c15f568ca669564dc24/google_auth_oauthlib-0.4.5-py2.py3-none-any.whl\n",
      "Collecting grpcio>=1.24.3 (from tensorboard>=2.2.0->pytorch-lightning<1.1,>=1.0.6->fastmri)\n",
      "\u001b[?25l  Downloading https://files.pythonhosted.org/packages/62/4b/8aec74c3dc13144a55afcc43108fc84d7aa8b9fe5bdfd8118042acc17a31/grpcio-1.39.0-cp37-cp37m-macosx_10_10_x86_64.whl (3.9MB)\n",
      "\u001b[K     |████████████████████████████████| 3.9MB 8.4MB/s eta 0:00:01\n",
      "\u001b[?25hRequirement already satisfied: cycler>=0.10 in /Users/tanviranjan/anaconda3/lib/python3.7/site-packages (from matplotlib!=3.0.0,>=2.0.0->scikit-image>=0.16.2->fastmri) (0.10.0)\n",
      "Requirement already satisfied: kiwisolver>=1.0.1 in /Users/tanviranjan/anaconda3/lib/python3.7/site-packages (from matplotlib!=3.0.0,>=2.0.0->scikit-image>=0.16.2->fastmri) (1.1.0)\n",
      "Requirement already satisfied: pyparsing!=2.0.4,!=2.1.2,!=2.1.6,>=2.0.1 in /Users/tanviranjan/anaconda3/lib/python3.7/site-packages (from matplotlib!=3.0.0,>=2.0.0->scikit-image>=0.16.2->fastmri) (2.4.0)\n",
      "Requirement already satisfied: python-dateutil>=2.1 in /Users/tanviranjan/anaconda3/lib/python3.7/site-packages (from matplotlib!=3.0.0,>=2.0.0->scikit-image>=0.16.2->fastmri) (2.8.0)\n",
      "Requirement already satisfied: decorator>=4.3.0 in /Users/tanviranjan/anaconda3/lib/python3.7/site-packages (from networkx>=2.0->scikit-image>=0.16.2->fastmri) (4.4.0)\n",
      "Requirement already satisfied: chardet<3.1.0,>=3.0.2 in /Users/tanviranjan/anaconda3/lib/python3.7/site-packages (from requests<3,>=2.21.0->tensorboard>=2.2.0->pytorch-lightning<1.1,>=1.0.6->fastmri) (3.0.4)\n",
      "Requirement already satisfied: idna<2.9,>=2.5 in /Users/tanviranjan/anaconda3/lib/python3.7/site-packages (from requests<3,>=2.21.0->tensorboard>=2.2.0->pytorch-lightning<1.1,>=1.0.6->fastmri) (2.8)\n",
      "Requirement already satisfied: urllib3!=1.25.0,!=1.25.1,<1.26,>=1.21.1 in /Users/tanviranjan/anaconda3/lib/python3.7/site-packages (from requests<3,>=2.21.0->tensorboard>=2.2.0->pytorch-lightning<1.1,>=1.0.6->fastmri) (1.24.2)\n",
      "Requirement already satisfied: certifi>=2017.4.17 in /Users/tanviranjan/anaconda3/lib/python3.7/site-packages (from requests<3,>=2.21.0->tensorboard>=2.2.0->pytorch-lightning<1.1,>=1.0.6->fastmri) (2020.11.8)\n",
      "Requirement already satisfied: importlib-metadata; python_version < \"3.8\" in /Users/tanviranjan/anaconda3/lib/python3.7/site-packages (from markdown>=2.6.8->tensorboard>=2.2.0->pytorch-lightning<1.1,>=1.0.6->fastmri) (0.17)\n",
      "Requirement already satisfied: six in /Users/tanviranjan/anaconda3/lib/python3.7/site-packages (from absl-py>=0.4->tensorboard>=2.2.0->pytorch-lightning<1.1,>=1.0.6->fastmri) (1.12.0)\n",
      "Collecting pyasn1-modules>=0.2.1 (from google-auth<2,>=1.6.3->tensorboard>=2.2.0->pytorch-lightning<1.1,>=1.0.6->fastmri)\n",
      "\u001b[?25l  Downloading https://files.pythonhosted.org/packages/95/de/214830a981892a3e286c3794f41ae67a4495df1108c3da8a9f62159b9a9d/pyasn1_modules-0.2.8-py2.py3-none-any.whl (155kB)\n",
      "\u001b[K     |████████████████████████████████| 163kB 5.0MB/s eta 0:00:01\n",
      "\u001b[?25hCollecting cachetools<5.0,>=2.0.0 (from google-auth<2,>=1.6.3->tensorboard>=2.2.0->pytorch-lightning<1.1,>=1.0.6->fastmri)\n",
      "  Downloading https://files.pythonhosted.org/packages/bf/28/c4f5796c67ad06bb91d98d543a5e01805c1ff065e08871f78e52d2a331ad/cachetools-4.2.2-py3-none-any.whl\n",
      "Collecting rsa<5,>=3.1.4; python_version >= \"3.6\" (from google-auth<2,>=1.6.3->tensorboard>=2.2.0->pytorch-lightning<1.1,>=1.0.6->fastmri)\n",
      "  Downloading https://files.pythonhosted.org/packages/e9/93/0c0f002031f18b53af7a6166103c02b9c0667be528944137cc954ec921b3/rsa-4.7.2-py3-none-any.whl\n",
      "Collecting requests-oauthlib>=0.7.0 (from google-auth-oauthlib<0.5,>=0.4.1->tensorboard>=2.2.0->pytorch-lightning<1.1,>=1.0.6->fastmri)\n",
      "  Downloading https://files.pythonhosted.org/packages/a3/12/b92740d845ab62ea4edf04d2f4164d82532b5a0b03836d4d4e71c6f3d379/requests_oauthlib-1.3.0-py2.py3-none-any.whl\n",
      "Requirement already satisfied: zipp>=0.5 in /Users/tanviranjan/anaconda3/lib/python3.7/site-packages (from importlib-metadata; python_version < \"3.8\"->markdown>=2.6.8->tensorboard>=2.2.0->pytorch-lightning<1.1,>=1.0.6->fastmri) (0.5.1)\n",
      "Collecting pyasn1<0.5.0,>=0.4.6 (from pyasn1-modules>=0.2.1->google-auth<2,>=1.6.3->tensorboard>=2.2.0->pytorch-lightning<1.1,>=1.0.6->fastmri)\n",
      "\u001b[?25l  Downloading https://files.pythonhosted.org/packages/62/1e/a94a8d635fa3ce4cfc7f506003548d0a2447ae76fd5ca53932970fe3053f/pyasn1-0.4.8-py2.py3-none-any.whl (77kB)\n",
      "\u001b[K     |████████████████████████████████| 81kB 10.8MB/s eta 0:00:01\n",
      "\u001b[?25hCollecting oauthlib>=3.0.0 (from requests-oauthlib>=0.7.0->google-auth-oauthlib<0.5,>=0.4.1->tensorboard>=2.2.0->pytorch-lightning<1.1,>=1.0.6->fastmri)\n",
      "\u001b[?25l  Downloading https://files.pythonhosted.org/packages/e8/5d/9dd1c29e5a786525f6342f6c1d812ed2e37edc653ad297048c1668988053/oauthlib-3.1.1-py2.py3-none-any.whl (146kB)\n",
      "\u001b[K     |████████████████████████████████| 153kB 6.0MB/s eta 0:00:01\n",
      "\u001b[?25hInstalling collected packages: PyYAML, tensorboard-plugin-wit, markdown, numpy, absl-py, tensorboard-data-server, protobuf, pyasn1, pyasn1-modules, cachetools, rsa, google-auth, oauthlib, requests-oauthlib, google-auth-oauthlib, grpcio, tensorboard, fsspec, tqdm, pytorch-lightning, cached-property, h5py, runstats, tifffile, PyWavelets, scikit-image, fastmri\n",
      "  Found existing installation: PyYAML 5.1.1\n",
      "\u001b[31mERROR: Cannot uninstall 'PyYAML'. It is a distutils installed project and thus we cannot accurately determine which files belong to it which would lead to only a partial uninstall.\u001b[0m\n",
      "Note: you may need to restart the kernel to use updated packages.\n"
     ]
    }
   ],
   "source": [
    "pip install fastmri"
   ]
  },
  {
   "cell_type": "code",
   "execution_count": 25,
   "metadata": {},
   "outputs": [
    {
     "ename": "ModuleNotFoundError",
     "evalue": "No module named 'fastmri'",
     "output_type": "error",
     "traceback": [
      "\u001b[0;31m---------------------------------------------------------------------------\u001b[0m",
      "\u001b[0;31mModuleNotFoundError\u001b[0m                       Traceback (most recent call last)",
      "\u001b[0;32m<ipython-input-25-24e5287fcdc5>\u001b[0m in \u001b[0;36m<module>\u001b[0;34m\u001b[0m\n\u001b[0;32m----> 1\u001b[0;31m \u001b[0;32mimport\u001b[0m \u001b[0mfastmri\u001b[0m\u001b[0;34m\u001b[0m\u001b[0;34m\u001b[0m\u001b[0m\n\u001b[0m",
      "\u001b[0;31mModuleNotFoundError\u001b[0m: No module named 'fastmri'"
     ]
    }
   ],
   "source": [
    "import fastmri"
   ]
  },
  {
   "cell_type": "code",
   "execution_count": 22,
   "metadata": {},
   "outputs": [
    {
     "ename": "ModuleNotFoundError",
     "evalue": "No module named 'sgmllib'",
     "output_type": "error",
     "traceback": [
      "\u001b[0;31m---------------------------------------------------------------------------\u001b[0m",
      "\u001b[0;31mModuleNotFoundError\u001b[0m                       Traceback (most recent call last)",
      "\u001b[0;32m<ipython-input-22-8a2ceb3d00a4>\u001b[0m in \u001b[0;36m<module>\u001b[0;34m\u001b[0m\n\u001b[0;32m----> 1\u001b[0;31m \u001b[0;32mimport\u001b[0m \u001b[0mtransforms\u001b[0m \u001b[0;32mas\u001b[0m \u001b[0mT\u001b[0m\u001b[0;34m\u001b[0m\u001b[0;34m\u001b[0m\u001b[0m\n\u001b[0m\u001b[1;32m      2\u001b[0m \u001b[0;32mdef\u001b[0m \u001b[0mget_transform\u001b[0m\u001b[0;34m(\u001b[0m\u001b[0mtrain\u001b[0m\u001b[0;34m)\u001b[0m\u001b[0;34m:\u001b[0m\u001b[0;34m\u001b[0m\u001b[0;34m\u001b[0m\u001b[0m\n\u001b[1;32m      3\u001b[0m     \u001b[0mtransforms\u001b[0m \u001b[0;34m=\u001b[0m \u001b[0;34m[\u001b[0m\u001b[0;34m]\u001b[0m\u001b[0;34m;\u001b[0m\u001b[0;34m\u001b[0m\u001b[0;34m\u001b[0m\u001b[0m\n\u001b[1;32m      4\u001b[0m     \u001b[0mtransforms\u001b[0m\u001b[0;34m.\u001b[0m\u001b[0mappend\u001b[0m\u001b[0;34m(\u001b[0m\u001b[0mT\u001b[0m\u001b[0;34m.\u001b[0m\u001b[0mToTensor\u001b[0m\u001b[0;34m(\u001b[0m\u001b[0;34m)\u001b[0m\u001b[0;34m)\u001b[0m\u001b[0;34m;\u001b[0m\u001b[0;34m\u001b[0m\u001b[0;34m\u001b[0m\u001b[0m\n\u001b[1;32m      5\u001b[0m     \u001b[0;32mif\u001b[0m \u001b[0mtrain\u001b[0m\u001b[0;34m:\u001b[0m\u001b[0;34m\u001b[0m\u001b[0;34m\u001b[0m\u001b[0m\n",
      "\u001b[0;32m~/anaconda3/lib/python3.7/site-packages/transforms/__init__.py\u001b[0m in \u001b[0;36m<module>\u001b[0;34m\u001b[0m\n\u001b[0;32m----> 1\u001b[0;31m \u001b[0;32mfrom\u001b[0m \u001b[0;34m.\u001b[0m\u001b[0msafe_html\u001b[0m \u001b[0;32mimport\u001b[0m \u001b[0msafe_html\u001b[0m\u001b[0;34m,\u001b[0m \u001b[0mbodyfinder\u001b[0m\u001b[0;34m\u001b[0m\u001b[0;34m\u001b[0m\u001b[0m\n\u001b[0m\u001b[1;32m      2\u001b[0m \u001b[0;34m\u001b[0m\u001b[0m\n\u001b[1;32m      3\u001b[0m \u001b[0;31m# modules = [\u001b[0m\u001b[0;34m\u001b[0m\u001b[0;34m\u001b[0m\u001b[0;34m\u001b[0m\u001b[0m\n\u001b[1;32m      4\u001b[0m \u001b[0;31m#     'st',             # zopish\u001b[0m\u001b[0;34m\u001b[0m\u001b[0;34m\u001b[0m\u001b[0;34m\u001b[0m\u001b[0m\n\u001b[1;32m      5\u001b[0m \u001b[0;31m#     'rest',           # docutils\u001b[0m\u001b[0;34m\u001b[0m\u001b[0;34m\u001b[0m\u001b[0;34m\u001b[0m\u001b[0m\n",
      "\u001b[0;32m~/anaconda3/lib/python3.7/site-packages/transforms/safe_html.py\u001b[0m in \u001b[0;36m<module>\u001b[0;34m\u001b[0m\n\u001b[0;32m----> 1\u001b[0;31m \u001b[0;32mfrom\u001b[0m \u001b[0msgmllib\u001b[0m \u001b[0;32mimport\u001b[0m \u001b[0mSGMLParser\u001b[0m\u001b[0;34m,\u001b[0m \u001b[0mSGMLParseError\u001b[0m\u001b[0;34m\u001b[0m\u001b[0;34m\u001b[0m\u001b[0m\n\u001b[0m\u001b[1;32m      2\u001b[0m \u001b[0;32mimport\u001b[0m \u001b[0mre\u001b[0m\u001b[0;34m\u001b[0m\u001b[0;34m\u001b[0m\u001b[0m\n\u001b[1;32m      3\u001b[0m \u001b[0;32mfrom\u001b[0m \u001b[0mcgi\u001b[0m \u001b[0;32mimport\u001b[0m \u001b[0mescape\u001b[0m\u001b[0;34m\u001b[0m\u001b[0;34m\u001b[0m\u001b[0m\n\u001b[1;32m      4\u001b[0m \u001b[0;34m\u001b[0m\u001b[0m\n\u001b[1;32m      5\u001b[0m \u001b[0;32mfrom\u001b[0m \u001b[0;34m.\u001b[0m\u001b[0mutils\u001b[0m \u001b[0;32mimport\u001b[0m \u001b[0msafeToInt\u001b[0m\u001b[0;34m\u001b[0m\u001b[0;34m\u001b[0m\u001b[0m\n",
      "\u001b[0;31mModuleNotFoundError\u001b[0m: No module named 'sgmllib'"
     ]
    }
   ],
   "source": [
    "import transforms as T\n",
    "def get_transform(train):\n",
    "    transforms = [];\n",
    "    transforms.append(T.ToTensor());\n",
    "    if train:\n",
    "        transforms.append(T.RandomHorizontalFlip(0.5))\n",
    "    return (T.Compose(transforms))"
   ]
  },
  {
   "cell_type": "code",
   "execution_count": 8,
   "metadata": {},
   "outputs": [],
   "source": [
    "def get_model_instance_segmentation(num_classes):\n",
    "    # load an instance segmentation model pre-trained pre-trained on COCO\n",
    "    model = torchvision.models.detection.fasterrcnn_resnet50_fpn(pretrained=True)\n",
    "\n",
    "    # get number of input features for the classifier\n",
    "    in_features = model.roi_heads.box_predictor.cls_score.in_features\n",
    "    \n",
    "    # replace the pre-trained head with a new one\n",
    "    model.roi_heads.box_predictor = FastRCNNPredictor(in_features, num_classes)\n",
    "\n",
    "    # now get the number of input features for the mask classifier\n",
    "    in_features_mask = model.roi_heads.mask_predictor.conv5_mask.in_channels\n",
    "    hidden_layer = 256\n",
    "    # and replace the mask predictor with a new one\n",
    "    model.roi_heads.mask_predictor = MaskRCNNPredictor(in_features_mask,\n",
    "                                                       hidden_layer,\n",
    "                                                       num_classes)\n",
    "\n",
    "    return model"
   ]
  },
  {
   "cell_type": "code",
   "execution_count": null,
   "metadata": {},
   "outputs": [],
   "source": [
    "# Use built-in engines and utils for easy evaluation\n",
    "from engine import train_one_epoch, evaluate\n",
    "import utils\n",
    "\n",
    "def main():\n",
    "    device = torch.device('cpu');\n",
    "    \n",
    "    num_classes = 2; #only 2 classes\n"
   ]
  }
 ],
 "metadata": {
  "kernelspec": {
   "display_name": "Python 3",
   "language": "python",
   "name": "python3"
  },
  "language_info": {
   "codemirror_mode": {
    "name": "ipython",
    "version": 3
   },
   "file_extension": ".py",
   "mimetype": "text/x-python",
   "name": "python",
   "nbconvert_exporter": "python",
   "pygments_lexer": "ipython3",
   "version": "3.7.3"
  }
 },
 "nbformat": 4,
 "nbformat_minor": 2
}
